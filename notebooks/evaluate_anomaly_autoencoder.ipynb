{
 "cells": [
  {
   "cell_type": "code",
   "execution_count": 1,
   "metadata": {},
   "outputs": [
    {
     "name": "stderr",
     "output_type": "stream",
     "text": [
      "/home/rikk/anaconda3/envs/stats/lib/python3.5/site-packages/h5py/__init__.py:36: FutureWarning: Conversion of the second argument of issubdtype from `float` to `np.floating` is deprecated. In future, it will be treated as `np.float64 == np.dtype(float).type`.\n",
      "  from ._conv import register_converters as _register_converters\n",
      "Using TensorFlow backend.\n"
     ]
    }
   ],
   "source": [
    "from keras.layers import Input, Dense\n",
    "from keras.models import Model\n",
    "import numpy as np\n",
    "import pandas as pd\n",
    "import os"
   ]
  },
  {
   "cell_type": "code",
   "execution_count": 44,
   "metadata": {},
   "outputs": [],
   "source": [
    "# Set filepath for model\n",
    "filepath = \"../models/anomaly_autoencoder.h5\"\n",
    "\n",
    "# Read in the data\n",
    "df_fraud = pd.read_csv(\"../data/fraud.csv\")\n",
    "df_validate = pd.read_csv(\"../data/not_fraud_validation.csv\")\n",
    "components = [\"V%d\" % n for n in range(1, 29)]\n",
    "fraud_components = df_fraud[components].as_matrix()\n",
    "validation_components = df_validate[components].as_matrix()"
   ]
  },
  {
   "cell_type": "code",
   "execution_count": 45,
   "metadata": {},
   "outputs": [],
   "source": [
    "# Define and load the model\n",
    "\n",
    "features = Input(shape=(28, ))\n",
    "\n",
    "encoded = Dense(28, activation='relu')(features)\n",
    "encoded = Dense(12, activation='relu')(encoded)\n",
    "encoded = Dense(6, activation='relu')(encoded)\n",
    "decoded = Dense(12, activation='relu')(encoded)\n",
    "decoded = Dense(26, activation='relu')(decoded)\n",
    "decoded = Dense(28, activation='tanh')(decoded)\n",
    "\n",
    "autoencoder = Model(features, decoded)\n",
    "\n",
    "autoencoder.compile(optimizer='sgd', loss='mean_squared_error')\n",
    "\n",
    "# Load model if it exists\n",
    "if os.path.isfile(filepath):\n",
    "    autoencoder.load_weights(filepath)"
   ]
  },
  {
   "cell_type": "code",
   "execution_count": 46,
   "metadata": {},
   "outputs": [
    {
     "name": "stdout",
     "output_type": "stream",
     "text": [
      "26.74875364420799\n",
      "0.4843881445815787\n"
     ]
    }
   ],
   "source": [
    "fraud_loss = []\n",
    "validation_loss = []\n",
    "\n",
    "for i in range(0, fraud_components.shape[0]):\n",
    "    vec = fraud_components[i,:].reshape((1, 28))\n",
    "    fraud_loss.append(autoencoder.evaluate(x=vec, y=vec, batch_size=1, verbose=0))\n",
    "    \n",
    "for i in range(0, validation_components.shape[0]):\n",
    "    vec = validation_components[i,:].reshape((1, 28))\n",
    "    validation_loss.append(autoencoder.evaluate(x=vec, y=vec, batch_size=1, verbose=0))\n",
    "    \n",
    "print(np.mean(fraud_loss))\n",
    "print(np.mean(validation_loss))\n",
    "    \n"
   ]
  },
  {
   "cell_type": "code",
   "execution_count": 47,
   "metadata": {},
   "outputs": [
    {
     "data": {
      "text/plain": [
       "<matplotlib.axes._subplots.AxesSubplot at 0x7fac28b32e80>"
      ]
     },
     "execution_count": 47,
     "metadata": {},
     "output_type": "execute_result"
    },
    {
     "data": {
      "image/png": "[encoded data removed]",
      "text/plain": [
       "<matplotlib.figure.Figure at 0x7fac28efdf28>"
      ]
     },
     "metadata": {},
     "output_type": "display_data"
    }
   ],
   "source": [
    "pd.Series(fraud_loss).plot.hist(bins=100)"
   ]
  },
  {
   "cell_type": "code",
   "execution_count": 43,
   "metadata": {},
   "outputs": [
    {
     "data": {
      "text/plain": [
       "<matplotlib.axes._subplots.AxesSubplot at 0x7fac28b0ee48>"
      ]
     },
     "execution_count": 43,
     "metadata": {},
     "output_type": "execute_result"
    },
    {
     "data": {
      "image/png": "[encoded data removed]",
      "text/plain": [
       "<matplotlib.figure.Figure at 0x7fac28cdbc88>"
      ]
     },
     "metadata": {},
     "output_type": "display_data"
    }
   ],
   "source": [
    "\n",
    "pd.Series(validation_loss).plot.hist(bins=100)"
   ]
  },
  {
   "cell_type": "code",
   "execution_count": 50,
   "metadata": {},
   "outputs": [
    {
     "data": {
      "text/plain": [
       "0.0265"
      ]
     },
     "execution_count": 50,
     "metadata": {},
     "output_type": "execute_result"
    }
   ],
   "source": [
    "val = pd.Series(validation_loss)\n",
    "(val > 2).sum() / len(validation_loss)"
   ]
  },
  {
   "cell_type": "code",
   "execution_count": null,
   "metadata": {},
   "outputs": [],
   "source": []
  },
  {
   "cell_type": "code",
   "execution_count": 51,
   "metadata": {},
   "outputs": [
    {
     "data": {
      "text/plain": [
       "0.8414634146341463"
      ]
     },
     "execution_count": 51,
     "metadata": {},
     "output_type": "execute_result"
    }
   ],
   "source": [
    "val = pd.Series(fraud_loss)\n",
    "(val > 2).sum() / len(fraud_loss)"
   ]
  },
  {
   "cell_type": "code",
   "execution_count": null,
   "metadata": {},
   "outputs": [],
   "source": []
  }
 ],
 "metadata": {
  "kernelspec": {
   "display_name": "Python [conda env:stats]",
   "language": "python",
   "name": "conda-env-stats-py"
  },
  "language_info": {
   "codemirror_mode": {
    "name": "ipython",
    "version": 3
   },
   "file_extension": ".py",
   "mimetype": "text/x-python",
   "name": "python",
   "nbconvert_exporter": "python",
   "pygments_lexer": "ipython3",
   "version": "3.5.2"
  }
 },
 "nbformat": 4,
 "nbformat_minor": 2
}
