{
 "cells": [
  {
   "cell_type": "code",
   "execution_count": null,
   "metadata": {},
   "outputs": [],
   "source": [
    "from keras.layers import Dropout, Dense, Input\n",
    "from keras.models import Model\n",
    "import numpy as np\n",
    "import pandas as pd"
   ]
  },
  {
   "cell_type": "code",
   "execution_count": null,
   "metadata": {},
   "outputs": [],
   "source": [
    "# Read in the data\n",
    "\n",
    "df_train = pd.read_csv(\"../data/not_fraud.csv\")\n",
    "components = [\"V%d\" % n for n in range(1, 29)]\n",
    "just_components = df_train[components].as_matrix()"
   ]
  },
  {
   "cell_type": "code",
   "execution_count": null,
   "metadata": {},
   "outputs": [],
   "source": [
    "# Training set and test set\n",
    "\n",
    "train = just_components[:-2000]\n",
    "test = just_components[-2000:]"
   ]
  },
  {
   "cell_type": "code",
   "execution_count": null,
   "metadata": {},
   "outputs": [],
   "source": [
    "# Define and fit the model\n",
    "\n",
    "features = Input(shape=(28, ))\n",
    "\n",
    "encoded = Dense(28, activation='relu')(features)\n",
    "encoded = Dense(12, activation='relu')(encoded)\n",
    "encoded = Dense(6, activation='relu')(encoded)\n",
    "decoded = Dense(12, activation='relu')(encoded)\n",
    "decoded = Dense(26, activation='relu')(decoded)\n",
    "decoded = Dense(28, activation='tanh')(decoded)\n",
    "\n",
    "\n",
    "autoencoder = Model(features, decoded)\n",
    "\n",
    "autoencoder.compile(optimizer='sgd', loss='mean_squared_error')\n",
    "\n",
    "autoencoder.fit(train, train,\n",
    "                epochs=200,\n",
    "                batch_size=16,\n",
    "                shuffle=True,\n",
    "                validation_data=(test, test),\n",
    "                verbose=1)\n",
    "\n",
    "autoencoder.save(\"./models/anomaly_autoencoder.h5\")"
   ]
  },
  {
   "cell_type": "code",
   "execution_count": null,
   "metadata": {},
   "outputs": [],
   "source": []
  }
 ],
 "metadata": {
  "kernelspec": {
   "display_name": "Python [conda env:stats]",
   "language": "python",
   "name": "conda-env-stats-py"
  },
  "language_info": {
   "codemirror_mode": {
    "name": "ipython",
    "version": 3
   },
   "file_extension": ".py",
   "mimetype": "text/x-python",
   "name": "python",
   "nbconvert_exporter": "python",
   "pygments_lexer": "ipython3",
   "version": "3.5.2"
  }
 },
 "nbformat": 4,
 "nbformat_minor": 2
}
